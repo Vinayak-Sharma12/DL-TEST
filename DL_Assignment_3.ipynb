{
 "cells": [
  {
   "cell_type": "markdown",
   "id": "0073c056-dc53-44aa-817f-2dd389769b59",
   "metadata": {},
   "source": [
    "# DL Assignment 3\n",
    "## Sargun Singh (102115078) 4O1D"
   ]
  },
  {
   "cell_type": "markdown",
   "id": "c095f2b0-faf6-49b2-bc8f-faccea9741cd",
   "metadata": {},
   "source": [
    "**Q1** *Create a single layer neural network to classify the self generated random data.*  "
   ]
  },
  {
   "cell_type": "code",
   "execution_count": 6,
   "id": "97df9f4f-3c58-4044-97ef-37b709ffc8b6",
   "metadata": {},
   "outputs": [],
   "source": [
    "import numpy as np\n",
    "import torch\n",
    "import torch.nn as nn\n",
    "import torch.optim as optim\n",
    "from sklearn.datasets import make_classification\n",
    "from sklearn.model_selection import train_test_split\n",
    "from sklearn.preprocessing import StandardScaler\n",
    "from sklearn.metrics import accuracy_score"
   ]
  },
  {
   "cell_type": "code",
   "execution_count": 7,
   "id": "9fca51ed-1cc1-440c-acb0-27bd7645dd01",
   "metadata": {},
   "outputs": [],
   "source": [
    "# Generate a synthetic binary classification dataset\n",
    "X, y = make_classification(\n",
    "    n_samples=1000,     # Number of samples\n",
    "    n_features=20,      # Number of features\n",
    "    n_informative=15,   # Number of informative features\n",
    "    n_redundant=5,      # Number of redundant features\n",
    "    n_classes=2,        # Number of classes\n",
    "    random_state=42     # Seed for reproducibility\n",
    ")"
   ]
  },
  {
   "cell_type": "code",
   "execution_count": 8,
   "id": "d965333a",
   "metadata": {},
   "outputs": [],
   "source": [
    "# Split the data into training and testing sets\n",
    "X_train, X_test, y_train, y_test = train_test_split(X, y, test_size=0.2, random_state=42)"
   ]
  },
  {
   "cell_type": "code",
   "execution_count": 9,
   "id": "0e467c39",
   "metadata": {},
   "outputs": [],
   "source": [
    "# Standardize the features for better performance\n",
    "scaler = StandardScaler()\n",
    "X_train = scaler.fit_transform(X_train)\n",
    "X_test = scaler.transform(X_test)"
   ]
  },
  {
   "cell_type": "code",
   "execution_count": 10,
   "id": "4d2b1881",
   "metadata": {},
   "outputs": [],
   "source": [
    "# Convert data to PyTorch tensors\n",
    "X_train_tensor = torch.tensor(X_train, dtype=torch.float32)\n",
    "X_test_tensor = torch.tensor(X_test, dtype=torch.float32)\n",
    "y_train_tensor = torch.tensor(y_train, dtype=torch.long)\n",
    "y_test_tensor = torch.tensor(y_test, dtype=torch.long)"
   ]
  },
  {
   "cell_type": "code",
   "execution_count": 11,
   "id": "e516509b",
   "metadata": {},
   "outputs": [],
   "source": [
    "# Define a Single-Layer Neural Network\n",
    "class SingleLayerNN(nn.Module):\n",
    "    def __init__(self, input_size, output_size):\n",
    "        super(SingleLayerNN, self).__init__()\n",
    "        self.fc = nn.Linear(input_size, output_size)\n",
    "\n",
    "    def forward(self, x):\n",
    "        return self.fc(x)\n"
   ]
  },
  {
   "cell_type": "code",
   "execution_count": 12,
   "id": "d24e6e50",
   "metadata": {},
   "outputs": [],
   "source": [
    "# Model parameters\n",
    "input_size = X_train.shape[1]  # Number of features\n",
    "output_size = 2  # Number of classes"
   ]
  },
  {
   "cell_type": "code",
   "execution_count": 13,
   "id": "d050d6c7",
   "metadata": {},
   "outputs": [],
   "source": [
    "# Instantiate the model\n",
    "model = SingleLayerNN(input_size, output_size)"
   ]
  },
  {
   "cell_type": "code",
   "execution_count": 14,
   "id": "b2861ce2",
   "metadata": {},
   "outputs": [],
   "source": [
    "# |Define Loss Function and Optimizer\n",
    "criterion = nn.CrossEntropyLoss()  # Suitable for multi-class classification\n",
    "optimizer = optim.SGD(model.parameters(), lr=0.01)  # Stochastic Gradient Descent"
   ]
  },
  {
   "cell_type": "code",
   "execution_count": 15,
   "id": "9844956f",
   "metadata": {},
   "outputs": [
    {
     "name": "stdout",
     "output_type": "stream",
     "text": [
      "Epoch [10/50], Loss: 0.7227\n",
      "Epoch [20/50], Loss: 0.6765\n",
      "Epoch [30/50], Loss: 0.6404\n",
      "Epoch [40/50], Loss: 0.6120\n",
      "Epoch [50/50], Loss: 0.5894\n"
     ]
    }
   ],
   "source": [
    "# Train the Model\n",
    "num_epochs = 50\n",
    "for epoch in range(num_epochs):\n",
    "    # Forward pass\n",
    "    outputs = model(X_train_tensor)\n",
    "    loss = criterion(outputs, y_train_tensor)\n",
    "\n",
    "    # Backward pass and optimization\n",
    "    optimizer.zero_grad()\n",
    "    loss.backward()\n",
    "    optimizer.step()\n",
    "\n",
    "    # Print loss for every 10 epochs\n",
    "    if (epoch + 1) % 10 == 0:\n",
    "        print(f'Epoch [{epoch + 1}/{num_epochs}], Loss: {loss.item():.4f}')"
   ]
  },
  {
   "cell_type": "code",
   "execution_count": 16,
   "id": "6bc3e393",
   "metadata": {},
   "outputs": [
    {
     "name": "stdout",
     "output_type": "stream",
     "text": [
      "Training Accuracy: 0.7113\n",
      "Testing Accuracy: 0.7150\n"
     ]
    }
   ],
   "source": [
    "# Evaluate the Model\n",
    "with torch.no_grad():\n",
    "    # Make predictions\n",
    "    train_predictions = torch.argmax(model(X_train_tensor), dim=1)\n",
    "    test_predictions = torch.argmax(model(X_test_tensor), dim=1)\n",
    "\n",
    "    # Calculate accuracy\n",
    "    train_accuracy = accuracy_score(y_train, train_predictions.numpy())\n",
    "    test_accuracy = accuracy_score(y_test, test_predictions.numpy())\n",
    "\n",
    "    print(f'Training Accuracy: {train_accuracy:.4f}')\n",
    "    print(f'Testing Accuracy: {test_accuracy:.4f}')"
   ]
  },
  {
   "cell_type": "code",
   "execution_count": null,
   "id": "5eda1f2c",
   "metadata": {},
   "outputs": [],
   "source": []
  }
 ],
 "metadata": {
  "kernelspec": {
   "display_name": "Python 3",
   "language": "python",
   "name": "python3"
  },
  "language_info": {
   "codemirror_mode": {
    "name": "ipython",
    "version": 3
   },
   "file_extension": ".py",
   "mimetype": "text/x-python",
   "name": "python",
   "nbconvert_exporter": "python",
   "pygments_lexer": "ipython3",
   "version": "3.12.4"
  }
 },
 "nbformat": 4,
 "nbformat_minor": 5
}
