{
 "cells": [
  {
   "cell_type": "markdown",
   "id": "863e6f60-0b71-467d-8017-974927186e9d",
   "metadata": {},
   "source": [
    "# DL Assignment 5\n",
    "## Sargun Singh (102115078) 4O1D"
   ]
  },
  {
   "cell_type": "code",
   "execution_count": 2,
   "id": "bf16517d-aeb3-47a6-8b98-6e10e3635daf",
   "metadata": {},
   "outputs": [],
   "source": [
    "import numpy as np\n",
    "import torch\n",
    "import torch.nn as nn\n",
    "import torch.optim as optim\n",
    "from sklearn.datasets import make_classification\n",
    "from sklearn.model_selection import train_test_split\n",
    "from sklearn.preprocessing import StandardScaler\n",
    "from sklearn.metrics import accuracy_score"
   ]
  },
  {
   "cell_type": "code",
   "execution_count": 3,
   "id": "d475c4a6-e506-4df4-8acf-7cfecd5152a4",
   "metadata": {},
   "outputs": [],
   "source": [
    "# Generate a synthetic binary classification dataset\n",
    "X, y = make_classification(\n",
    "    n_samples=1000,     # Number of samples\n",
    "    n_features=20,      # Number of features\n",
    "    n_informative=15,   # Number of informative features\n",
    "    n_redundant=5,      # Number of redundant features\n",
    "    n_classes=2,        # Number of classes\n",
    "    random_state=42     # Seed for reproducibility\n",
    ")"
   ]
  },
  {
   "cell_type": "code",
   "execution_count": 4,
   "id": "5162276d-83e4-41f1-b776-8b16c45414f1",
   "metadata": {},
   "outputs": [],
   "source": [
    "# Split the data into training and testing sets\n",
    "X_train, X_test, y_train, y_test = train_test_split(X, y, test_size=0.2, random_state=42)"
   ]
  },
  {
   "cell_type": "code",
   "execution_count": 5,
   "id": "d099e4d9-2069-44c0-a2f5-dd19690829f7",
   "metadata": {},
   "outputs": [],
   "source": [
    "# Standardize the features for better performance\n",
    "scaler = StandardScaler()\n",
    "X_train = scaler.fit_transform(X_train)\n",
    "X_test = scaler.transform(X_test)"
   ]
  },
  {
   "cell_type": "code",
   "execution_count": 6,
   "id": "f364455a-4f1a-4ac4-b98f-d458de487cf3",
   "metadata": {},
   "outputs": [],
   "source": [
    "# Standardize the features for better performance\n",
    "scaler = StandardScaler()\n",
    "X_train = scaler.fit_transform(X_train)\n",
    "X_test = scaler.transform(X_test)"
   ]
  },
  {
   "cell_type": "code",
   "execution_count": 7,
   "id": "d5f4bcc4-1676-457c-8e92-8c9b9bde3880",
   "metadata": {},
   "outputs": [],
   "source": [
    "# Convert data to PyTorch tensors\n",
    "X_train_tensor = torch.tensor(X_train, dtype=torch.float32)\n",
    "X_test_tensor = torch.tensor(X_test, dtype=torch.float32)\n",
    "y_train_tensor = torch.tensor(y_train, dtype=torch.long)\n",
    "y_test_tensor = torch.tensor(y_test, dtype=torch.long)"
   ]
  },
  {
   "cell_type": "code",
   "execution_count": 8,
   "id": "95339cad-668d-4cc3-9c55-c1b912192962",
   "metadata": {},
   "outputs": [],
   "source": [
    "# Define a Deep Multi-Layer Neural Network\n",
    "class DeepNN(nn.Module):\n",
    "    def __init__(self, input_size, hidden_sizes, output_size):\n",
    "        super(DeepNN, self).__init__()\n",
    "        self.hidden_layers = nn.ModuleList()\n",
    "        in_features = input_size\n",
    "        \n",
    "        # Add hidden layers\n",
    "        for hidden_size in hidden_sizes:\n",
    "            self.hidden_layers.append(nn.Linear(in_features, hidden_size))\n",
    "            in_features = hidden_size\n",
    "        \n",
    "        # Output layer\n",
    "        self.output_layer = nn.Linear(in_features, output_size)\n",
    "    \n",
    "    def forward(self, x):\n",
    "        for layer in self.hidden_layers:\n",
    "            x = torch.relu(layer(x))\n",
    "        x = self.output_layer(x)  # No activation for the output layer (handled by loss function)\n",
    "        return x"
   ]
  },
  {
   "cell_type": "code",
   "execution_count": 9,
   "id": "92bd9d55-ba12-4374-be5d-f2b612a90377",
   "metadata": {},
   "outputs": [],
   "source": [
    "# Model parameters\n",
    "input_size = X_train.shape[1]  # Number of features\n",
    "hidden_sizes = [64, 32, 16]    # Sizes of hidden layers\n",
    "output_size = 2                # Number of classes"
   ]
  },
  {
   "cell_type": "code",
   "execution_count": 10,
   "id": "6d93d82d-ca37-4862-be95-e15607a5f58b",
   "metadata": {},
   "outputs": [],
   "source": [
    "# Instantiate the model\n",
    "model = DeepNN(input_size, hidden_sizes, output_size)"
   ]
  },
  {
   "cell_type": "code",
   "execution_count": 13,
   "id": "7cb39d4d-51de-4061-a421-ee38ef1f312b",
   "metadata": {},
   "outputs": [],
   "source": [
    "# Define Loss Function and Optimizer\n",
    "criterion = nn.CrossEntropyLoss()  # Suitable for multi-class classification\n",
    "optimizer = optim.Adam(model.parameters(), lr=0.01)  # Adam optimizer"
   ]
  },
  {
   "cell_type": "code",
   "execution_count": 14,
   "id": "36ce0d30-6772-45df-8c57-e4b72470031d",
   "metadata": {},
   "outputs": [
    {
     "name": "stdout",
     "output_type": "stream",
     "text": [
      "Epoch [10/100], Loss: 0.0349\n",
      "Epoch [20/100], Loss: 0.0032\n",
      "Epoch [30/100], Loss: 0.0002\n",
      "Epoch [40/100], Loss: 0.0002\n",
      "Epoch [50/100], Loss: 0.0001\n",
      "Epoch [60/100], Loss: 0.0001\n",
      "Epoch [70/100], Loss: 0.0000\n",
      "Epoch [80/100], Loss: 0.0000\n",
      "Epoch [90/100], Loss: 0.0000\n",
      "Epoch [100/100], Loss: 0.0000\n"
     ]
    }
   ],
   "source": [
    "#Train the Model\n",
    "num_epochs = 100\n",
    "for epoch in range(num_epochs):\n",
    "    # Forward pass\n",
    "    outputs = model(X_train_tensor)\n",
    "    loss = criterion(outputs, y_train_tensor)\n",
    "    \n",
    "    # Backward pass and optimization\n",
    "    optimizer.zero_grad()\n",
    "    loss.backward()\n",
    "    optimizer.step()\n",
    "    \n",
    "    # Print loss for every 10 epochs\n",
    "    if (epoch + 1) % 10 == 0:\n",
    "        print(f'Epoch [{epoch + 1}/{num_epochs}], Loss: {loss.item():.4f}')"
   ]
  },
  {
   "cell_type": "code",
   "execution_count": 15,
   "id": "98a76b77-a9e0-422a-81d6-a942129c5f79",
   "metadata": {},
   "outputs": [
    {
     "name": "stdout",
     "output_type": "stream",
     "text": [
      "Training Accuracy: 1.0000\n",
      "Testing Accuracy: 0.9600\n"
     ]
    }
   ],
   "source": [
    "# Evaluate the Model\n",
    "with torch.no_grad():\n",
    "    # Make predictions\n",
    "    train_predictions = torch.argmax(model(X_train_tensor), dim=1)\n",
    "    test_predictions = torch.argmax(model(X_test_tensor), dim=1)\n",
    "    \n",
    "    # Calculate accuracy\n",
    "    train_accuracy = accuracy_score(y_train, train_predictions.numpy())\n",
    "    test_accuracy = accuracy_score(y_test, test_predictions.numpy())\n",
    "\n",
    "    print(f'Training Accuracy: {train_accuracy:.4f}')\n",
    "    print(f'Testing Accuracy: {test_accuracy:.4f}')"
   ]
  },
  {
   "cell_type": "code",
   "execution_count": null,
   "id": "c11b50dd-1072-4c88-a026-c575eb347d9a",
   "metadata": {},
   "outputs": [],
   "source": []
  }
 ],
 "metadata": {
  "kernelspec": {
   "display_name": "Python 3 (ipykernel)",
   "language": "python",
   "name": "python3"
  },
  "language_info": {
   "codemirror_mode": {
    "name": "ipython",
    "version": 3
   },
   "file_extension": ".py",
   "mimetype": "text/x-python",
   "name": "python",
   "nbconvert_exporter": "python",
   "pygments_lexer": "ipython3",
   "version": "3.12.4"
  }
 },
 "nbformat": 4,
 "nbformat_minor": 5
}
