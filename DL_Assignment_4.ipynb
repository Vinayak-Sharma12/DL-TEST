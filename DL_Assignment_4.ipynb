{
 "cells": [
  {
   "cell_type": "markdown",
   "metadata": {},
   "source": [
    "# DL Assignment 4\n",
    "## Sargun Singh (102115078) 4O1D"
   ]
  },
  {
   "cell_type": "markdown",
   "metadata": {},
   "source": [
    "**Q1** *Study the single layer neural network for different Learning Rates.*  "
   ]
  },
  {
   "cell_type": "code",
   "execution_count": 1,
   "metadata": {},
   "outputs": [],
   "source": [
    "import numpy as np\n",
    "import torch\n",
    "import torch.nn as nn\n",
    "import torch.optim as optim\n",
    "from sklearn.datasets import make_classification\n",
    "from sklearn.model_selection import train_test_split\n",
    "from sklearn.preprocessing import StandardScaler\n",
    "from sklearn.metrics import accuracy_score"
   ]
  },
  {
   "cell_type": "code",
   "execution_count": 2,
   "metadata": {},
   "outputs": [],
   "source": [
    "# Generate Random Data\n",
    "X, y = make_classification(\n",
    "    n_samples=1000,     \n",
    "    n_features=20,      \n",
    "    n_informative=15,   \n",
    "    n_redundant=5,      \n",
    "    n_classes=2,        \n",
    "    random_state=42     \n",
    ")"
   ]
  },
  {
   "cell_type": "code",
   "execution_count": 3,
   "metadata": {},
   "outputs": [],
   "source": [
    "# Split the data into training and testing sets\n",
    "X_train, X_test, y_train, y_test = train_test_split(X, y, test_size=0.2, random_state=42)"
   ]
  },
  {
   "cell_type": "code",
   "execution_count": 4,
   "metadata": {},
   "outputs": [],
   "source": [
    "# Standardize the features\n",
    "scaler = StandardScaler()\n",
    "X_train = scaler.fit_transform(X_train)\n",
    "X_test = scaler.transform(X_test)"
   ]
  },
  {
   "cell_type": "code",
   "execution_count": 5,
   "metadata": {},
   "outputs": [],
   "source": [
    "# Convert data to PyTorch tensors\n",
    "X_train_tensor = torch.tensor(X_train, dtype=torch.float32)\n",
    "X_test_tensor = torch.tensor(X_test, dtype=torch.float32)\n",
    "y_train_tensor = torch.tensor(y_train, dtype=torch.long)\n",
    "y_test_tensor = torch.tensor(y_test, dtype=torch.long)"
   ]
  },
  {
   "cell_type": "code",
   "execution_count": 6,
   "metadata": {},
   "outputs": [],
   "source": [
    "# Define a Single-Layer Neural Network\n",
    "class SingleLayerNN(nn.Module):\n",
    "    def __init__(self, input_size, output_size):\n",
    "        super(SingleLayerNN, self).__init__()\n",
    "        self.fc = nn.Linear(input_size, output_size)\n",
    "\n",
    "    def forward(self, x):\n",
    "        return self.fc(x)"
   ]
  },
  {
   "cell_type": "code",
   "execution_count": 7,
   "metadata": {},
   "outputs": [],
   "source": [
    "# Function to train and evaluate the model\n",
    "def train_and_evaluate(learning_rate):\n",
    "    input_size = X_train.shape[1]\n",
    "    output_size = 2\n",
    "    \n",
    "    model = SingleLayerNN(input_size, output_size)\n",
    "    criterion = nn.CrossEntropyLoss()\n",
    "    optimizer = optim.SGD(model.parameters(), lr=learning_rate)\n",
    "    \n",
    "    num_epochs = 50\n",
    "    for epoch in range(num_epochs):\n",
    "        # Forward pass\n",
    "        outputs = model(X_train_tensor)\n",
    "        loss = criterion(outputs, y_train_tensor)\n",
    "        \n",
    "        # Backward pass and optimization\n",
    "        optimizer.zero_grad()\n",
    "        loss.backward()\n",
    "        optimizer.step()\n",
    "    \n",
    "    # Evaluate the model\n",
    "    with torch.no_grad():\n",
    "        train_predictions = torch.argmax(model(X_train_tensor), dim=1)\n",
    "        test_predictions = torch.argmax(model(X_test_tensor), dim=1)\n",
    "        \n",
    "        train_accuracy = accuracy_score(y_train, train_predictions.numpy())\n",
    "        test_accuracy = accuracy_score(y_test, test_predictions.numpy())\n",
    "    \n",
    "    return train_accuracy, test_accuracy, loss.item()"
   ]
  },
  {
   "cell_type": "code",
   "execution_count": 8,
   "metadata": {},
   "outputs": [],
   "source": [
    "# Study different learning rates\n",
    "learning_rates = [0.0001, 0.001, 0.01, 0.1, 1.0]\n",
    "results = []"
   ]
  },
  {
   "cell_type": "code",
   "execution_count": 18,
   "metadata": {},
   "outputs": [
    {
     "name": "stdout",
     "output_type": "stream",
     "text": [
      "Learning Rate  Train Accuracy Test Accuracy  Final Loss     \n",
      "0.0001         0.5713         0.5700         0.6973         \n",
      "0.001          0.3650         0.3550         0.9349         \n",
      "0.01           0.6550         0.6100         0.6098         \n",
      "0.1            0.8050         0.8300         0.4279         \n",
      "1.0            0.8150         0.8250         0.3939         \n"
     ]
    }
   ],
   "source": [
    "print(f\"{'Learning Rate':<15}{'Train Accuracy':<15}{'Test Accuracy':<15}{'Final Loss':<15}\")\n",
    "for lr in learning_rates:\n",
    "    train_acc, test_acc, final_loss = train_and_evaluate(lr)\n",
    "    results.append((lr, train_acc, test_acc, final_loss))\n",
    "    print(f\"{lr:<15}{train_acc:<15.4f}{test_acc:<15.4f}{final_loss:<15.4f}\")"
   ]
  },
  {
   "cell_type": "code",
   "execution_count": null,
   "metadata": {},
   "outputs": [],
   "source": []
  }
 ],
 "metadata": {
  "kernelspec": {
   "display_name": "Python 3 (ipykernel)",
   "language": "python",
   "name": "python3"
  },
  "language_info": {
   "codemirror_mode": {
    "name": "ipython",
    "version": 3
   },
   "file_extension": ".py",
   "mimetype": "text/x-python",
   "name": "python",
   "nbconvert_exporter": "python",
   "pygments_lexer": "ipython3",
   "version": "3.12.4"
  }
 },
 "nbformat": 4,
 "nbformat_minor": 4
}
