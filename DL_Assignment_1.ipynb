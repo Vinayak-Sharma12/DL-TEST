{
 "cells": [
  {
   "cell_type": "markdown",
   "id": "23352326-ab95-4bb6-9bea-fb6e52254fd8",
   "metadata": {},
   "source": [
    "# Sargun Singh (102115078) 4O1D \n",
    "*DL Assignment*"
   ]
  },
  {
   "cell_type": "markdown",
   "id": "06156305-a137-4514-a67e-ce412b374988",
   "metadata": {},
   "source": [
    "# Assignment 1"
   ]
  },
  {
   "cell_type": "markdown",
   "id": "7a92207e-0cc3-4036-bf55-07384e2439d3",
   "metadata": {},
   "source": [
    "**Assingment 1.1**: WAP to print your name three times"
   ]
  },
  {
   "cell_type": "code",
   "execution_count": 2,
   "id": "72a6f605-c68b-4377-a7c5-3ebc47b91070",
   "metadata": {},
   "outputs": [
    {
     "name": "stdout",
     "output_type": "stream",
     "text": [
      "Sargun Singh\n",
      "Sargun Singh\n",
      "Sargun Singh\n"
     ]
    }
   ],
   "source": [
    "for i in range(3):\n",
    "    print('Sargun Singh')"
   ]
  },
  {
   "cell_type": "markdown",
   "id": "ec3a92ae-214d-4a0c-bb31-e7efa7a8432d",
   "metadata": {},
   "source": [
    "**Assingment 2.1**: WAP to add three numbers and print the result."
   ]
  },
  {
   "cell_type": "code",
   "execution_count": 3,
   "id": "61a45f3b-e0cf-42c5-8a0b-d105b9d205d8",
   "metadata": {},
   "outputs": [
    {
     "name": "stdout",
     "output_type": "stream",
     "text": [
      "a + b + c = 100\n"
     ]
    }
   ],
   "source": [
    "a = 20\n",
    "b = 30\n",
    "c = 50\n",
    "print(f\"a + b + c = {a+b+c}\")"
   ]
  },
  {
   "cell_type": "markdown",
   "id": "fe9d2071-de3f-49dd-ba21-3f821961aaa9",
   "metadata": {},
   "source": [
    "**Assingment 2.2**: WAP to concatinate three strings and print the result."
   ]
  },
  {
   "cell_type": "code",
   "execution_count": 4,
   "id": "67b803ad-6218-48cc-bed2-684192a32d68",
   "metadata": {},
   "outputs": [
    {
     "name": "stdout",
     "output_type": "stream",
     "text": [
      "Hi My name +  is  + Sargun Singh. = Hi My name is Sargun Singh.\n"
     ]
    }
   ],
   "source": [
    "a = \"Hi My name\"\n",
    "b = \" is \"\n",
    "c = \"Sargun Singh.\"\n",
    "print(f\"{a} + {b} + {c} = {a + b + c}\")"
   ]
  },
  {
   "cell_type": "markdown",
   "id": "83036255-bae7-4f5a-999d-153193efe7a4",
   "metadata": {},
   "source": [
    "**Assingment 4.1:** WAP to print the table of 7, 9."
   ]
  },
  {
   "cell_type": "code",
   "execution_count": 6,
   "id": "a0c6315e-7ada-4fdb-9211-9f21ad577fea",
   "metadata": {},
   "outputs": [
    {
     "name": "stdout",
     "output_type": "stream",
     "text": [
      "7\n",
      "14\n",
      "21\n",
      "28\n",
      "35\n",
      "42\n",
      "49\n",
      "56\n",
      "63\n",
      "70\n"
     ]
    }
   ],
   "source": [
    "for i in range(1,11):\n",
    "    print(i * 7)"
   ]
  },
  {
   "cell_type": "code",
   "execution_count": 7,
   "id": "a544408c-cb5e-4d37-8856-1854223fe482",
   "metadata": {},
   "outputs": [
    {
     "name": "stdout",
     "output_type": "stream",
     "text": [
      "9\n",
      "18\n",
      "27\n",
      "36\n",
      "45\n",
      "54\n",
      "63\n",
      "72\n",
      "81\n",
      "90\n"
     ]
    }
   ],
   "source": [
    "for i in range(1,11):\n",
    "    print(i * 9)"
   ]
  },
  {
   "cell_type": "markdown",
   "id": "5c8b1337-6c1e-4c97-a002-046ab4b17467",
   "metadata": {},
   "source": [
    "**Assingment 4.2:** WAP to print the table of n and n is given by user."
   ]
  },
  {
   "cell_type": "code",
   "execution_count": 11,
   "id": "b1142e73-b4f3-470e-b325-655b2472476a",
   "metadata": {},
   "outputs": [
    {
     "name": "stdin",
     "output_type": "stream",
     "text": [
      "What is the value of n?  5\n"
     ]
    },
    {
     "name": "stdout",
     "output_type": "stream",
     "text": [
      "5\n",
      "10\n",
      "15\n",
      "20\n",
      "25\n",
      "30\n",
      "35\n",
      "40\n",
      "45\n",
      "50\n"
     ]
    }
   ],
   "source": [
    "n = int(input(\"What is the value of n? \"))\n",
    "for i in range(1, 11):\n",
    "    print(i * n)"
   ]
  },
  {
   "cell_type": "markdown",
   "id": "7c5cef40-8cee-44c5-8b74-2482a67a72d8",
   "metadata": {},
   "source": [
    "**Assingment 4.3:** WAP to add all the numbers from 1 to n and n is given by user."
   ]
  },
  {
   "cell_type": "code",
   "execution_count": 13,
   "id": "04e77f6f-646a-4af6-b144-5f8a83f89ccf",
   "metadata": {},
   "outputs": [
    {
     "name": "stdin",
     "output_type": "stream",
     "text": [
      "What is the value of n?  10\n"
     ]
    },
    {
     "name": "stdout",
     "output_type": "stream",
     "text": [
      "The sum of numbers from 1 to 10 is 55.\n"
     ]
    }
   ],
   "source": [
    "n = int(input(\"What is the value of n? \"))\n",
    "sum = 0 \n",
    "for i in range(1, n + 1):\n",
    "    sum += i\n",
    "\n",
    "print(f\"The sum of numbers from 1 to {n} is {sum}.\")"
   ]
  },
  {
   "cell_type": "markdown",
   "id": "4a47a326-11f8-4ec9-b8b4-5044cafb8a74",
   "metadata": {},
   "source": [
    "**Assingment 5.1:** WAP to find max amoung three numbers and input from user. [Try max() function]"
   ]
  },
  {
   "cell_type": "code",
   "execution_count": 16,
   "id": "75fd483d-680c-4024-8c75-9b8528b022f7",
   "metadata": {},
   "outputs": [
    {
     "name": "stdin",
     "output_type": "stream",
     "text": [
      "What is the value of first number:  2\n",
      "What is the value of second number:  67\n",
      "What is the value of third number:  43\n"
     ]
    },
    {
     "name": "stdout",
     "output_type": "stream",
     "text": [
      "67\n"
     ]
    }
   ],
   "source": [
    "a = int(input(\"What is the value of first number: \"))\n",
    "b = int(input(\"What is the value of second number: \"))\n",
    "c = int(input(\"What is the value of third number: \"))\n",
    "\n",
    "print(max(a, b, c))"
   ]
  },
  {
   "cell_type": "markdown",
   "id": "2e9587a5-7c5e-4521-9124-2135756e768d",
   "metadata": {},
   "source": [
    "**Assingment 5.2:** WAP to add all numbers divisible by 7 and 9 from 1 to n and n is given by the user."
   ]
  },
  {
   "cell_type": "code",
   "execution_count": 18,
   "id": "d317ad7a-86dd-4fea-b392-fb1ba1a3755f",
   "metadata": {},
   "outputs": [
    {
     "name": "stdin",
     "output_type": "stream",
     "text": [
      "What is the value of n? 68\n"
     ]
    },
    {
     "name": "stdout",
     "output_type": "stream",
     "text": [
      "504\n"
     ]
    }
   ],
   "source": [
    "n = int(input(\"What is the value of n?\"))\n",
    "sum = 0\n",
    "for i in range(1, n+1):\n",
    "    if i % 7 == 0 and i % 9 == 0:\n",
    "        sum += i\n",
    "    elif i % 7 == 0:\n",
    "        sum += i\n",
    "    elif i % 9 == 0:\n",
    "        sum += i\n",
    "    else:\n",
    "        continue\n",
    "print(sum)"
   ]
  },
  {
   "cell_type": "markdown",
   "id": "1b91c64d-046e-424d-9a73-ebd3ab9bede3",
   "metadata": {},
   "source": [
    "**Assingment 5.3:** WAP to add all prime numbers from 1 to n and n is given by the user."
   ]
  },
  {
   "cell_type": "code",
   "execution_count": 22,
   "id": "3ab32861-bdbc-4d92-a98b-cf1d5a828b1a",
   "metadata": {},
   "outputs": [
    {
     "name": "stdin",
     "output_type": "stream",
     "text": [
      "Enter a number:  10\n"
     ]
    },
    {
     "name": "stdout",
     "output_type": "stream",
     "text": [
      "The sum of all prime numbers from 1 to 10 is 17\n"
     ]
    }
   ],
   "source": [
    "n = int(input(\"Enter a number: \"))\n",
    "\n",
    "prime_sum = 0\n",
    "\n",
    "for i in range(2, n + 1):\n",
    "    is_prime = True\n",
    "    for j in range(2, int(i ** 0.5) + 1):\n",
    "        if i % j == 0:\n",
    "            is_prime = False\n",
    "            break\n",
    "    if is_prime:\n",
    "        prime_sum += i\n",
    "\n",
    "print(f\"The sum of all prime numbers from 1 to {n} is {prime_sum}\")"
   ]
  },
  {
   "cell_type": "markdown",
   "id": "4f8ab8ae-761a-4d40-ae59-fa9e17c724dc",
   "metadata": {},
   "source": [
    "**Assingment 6.1:** WAP using function that add all odd numbers from 1 to n, n is given by the user."
   ]
  },
  {
   "cell_type": "code",
   "execution_count": 23,
   "id": "322bebfe-1c89-4935-bc24-45c9f71dd2a6",
   "metadata": {},
   "outputs": [
    {
     "data": {
      "text/plain": [
       "25"
      ]
     },
     "execution_count": 23,
     "metadata": {},
     "output_type": "execute_result"
    }
   ],
   "source": [
    "def n_sum(n):\n",
    "    s = 0\n",
    "    for i in range(1, n):\n",
    "        if i % 2 != 0:\n",
    "            s += i\n",
    "    return s\n",
    "\n",
    "n_sum(10)"
   ]
  },
  {
   "cell_type": "markdown",
   "id": "460a3161-46ed-43a7-9cdc-d53b9bd198cb",
   "metadata": {},
   "source": [
    "**Assingment 6.2:** WAP using function that add all prime numbers from 1 to n, n given by the user."
   ]
  },
  {
   "cell_type": "code",
   "execution_count": 24,
   "id": "c82abc0d-bb6c-4204-85ed-f1772df0c1e5",
   "metadata": {},
   "outputs": [
    {
     "name": "stdin",
     "output_type": "stream",
     "text": [
      "Enter a number:  45\n"
     ]
    },
    {
     "name": "stdout",
     "output_type": "stream",
     "text": [
      "The sum of all prime numbers from 1 to 45 is 281\n"
     ]
    }
   ],
   "source": [
    "def is_prime(num):\n",
    "    if num < 2:\n",
    "        return False\n",
    "    for i in range(2, int(num ** 0.5) + 1):\n",
    "        if num % i == 0:\n",
    "            return False\n",
    "    return True\n",
    "    \n",
    "def sum_of_primes(n):\n",
    "    prime_sum = 0\n",
    "    for i in range(2, n + 1):\n",
    "        if is_prime(i):\n",
    "            prime_sum += i\n",
    "    return prime_sum\n",
    "\n",
    "n = int(input(\"Enter a number: \"))\n",
    "print(f\"The sum of all prime numbers from 1 to {n} is {sum_of_primes(n)}\")"
   ]
  },
  {
   "cell_type": "code",
   "execution_count": null,
   "id": "76781f14-a1f8-4dc6-8260-876c501da839",
   "metadata": {},
   "outputs": [],
   "source": []
  }
 ],
 "metadata": {
  "kernelspec": {
   "display_name": "Python 3 (ipykernel)",
   "language": "python",
   "name": "python3"
  },
  "language_info": {
   "codemirror_mode": {
    "name": "ipython",
    "version": 3
   },
   "file_extension": ".py",
   "mimetype": "text/x-python",
   "name": "python",
   "nbconvert_exporter": "python",
   "pygments_lexer": "ipython3",
   "version": "3.12.4"
  }
 },
 "nbformat": 4,
 "nbformat_minor": 5
}
