{
 "cells": [
  {
   "cell_type": "markdown",
   "id": "8b6ba17e-8fb7-445e-89de-8cf849320ffa",
   "metadata": {},
   "source": [
    "# DL Assignment 8\n",
    "## Sargun Singh (102115078) 4O1D"
   ]
  },
  {
   "cell_type": "markdown",
   "id": "625d0ceb-5443-4dac-88f6-5125b4584645",
   "metadata": {},
   "source": [
    "**Q1** *Use the appropriate dataset to realize multiple linear regression and show that how various statistical tools like p-value, t-score etc can be used for dimensionality reduction*"
   ]
  },
  {
   "cell_type": "code",
   "execution_count": 1,
   "id": "304a3c48-cc4f-46c5-83cf-298abb82297c",
   "metadata": {},
   "outputs": [],
   "source": [
    "import pandas as pd\n",
    "import numpy as np\n",
    "from sklearn.datasets import fetch_california_housing\n",
    "from sklearn.model_selection import train_test_split\n",
    "from sklearn.metrics import mean_squared_error, r2_score\n",
    "import statsmodels.api as sm"
   ]
  },
  {
   "cell_type": "code",
   "execution_count": 2,
   "id": "79e21ce9-2995-4835-a104-7a45ef873957",
   "metadata": {},
   "outputs": [],
   "source": [
    "# Load the California Housing Dataset\n",
    "data = fetch_california_housing(as_frame=True)\n",
    "X = data.data  # Features\n",
    "y = data.target  # Target variable (Median house value)"
   ]
  },
  {
   "cell_type": "code",
   "execution_count": 3,
   "id": "62489687-99a7-4c53-9a2d-76f8b57d5d60",
   "metadata": {},
   "outputs": [],
   "source": [
    "# Add a constant for the intercept in statsmodels\n",
    "X = sm.add_constant(X)"
   ]
  },
  {
   "cell_type": "code",
   "execution_count": 4,
   "id": "2ba1707e-b177-44df-bfee-9d6949cfe46c",
   "metadata": {},
   "outputs": [],
   "source": [
    "# Use statsmodels for detailed statistical analysis\n",
    "model = sm.OLS(y, X).fit()"
   ]
  },
  {
   "cell_type": "code",
   "execution_count": 5,
   "id": "73883dfc-6e49-4e13-bd63-65e205d77b7a",
   "metadata": {},
   "outputs": [
    {
     "name": "stdout",
     "output_type": "stream",
     "text": [
      "                            OLS Regression Results                            \n",
      "==============================================================================\n",
      "Dep. Variable:            MedHouseVal   R-squared:                       0.606\n",
      "Model:                            OLS   Adj. R-squared:                  0.606\n",
      "Method:                 Least Squares   F-statistic:                     3970.\n",
      "Date:                Wed, 20 Nov 2024   Prob (F-statistic):               0.00\n",
      "Time:                        00:38:51   Log-Likelihood:                -22624.\n",
      "No. Observations:               20640   AIC:                         4.527e+04\n",
      "Df Residuals:                   20631   BIC:                         4.534e+04\n",
      "Df Model:                           8                                         \n",
      "Covariance Type:            nonrobust                                         \n",
      "==============================================================================\n",
      "                 coef    std err          t      P>|t|      [0.025      0.975]\n",
      "------------------------------------------------------------------------------\n",
      "const        -36.9419      0.659    -56.067      0.000     -38.233     -35.650\n",
      "MedInc         0.4367      0.004    104.054      0.000       0.428       0.445\n",
      "HouseAge       0.0094      0.000     21.143      0.000       0.009       0.010\n",
      "AveRooms      -0.1073      0.006    -18.235      0.000      -0.119      -0.096\n",
      "AveBedrms      0.6451      0.028     22.928      0.000       0.590       0.700\n",
      "Population -3.976e-06   4.75e-06     -0.837      0.402   -1.33e-05    5.33e-06\n",
      "AveOccup      -0.0038      0.000     -7.769      0.000      -0.005      -0.003\n",
      "Latitude      -0.4213      0.007    -58.541      0.000      -0.435      -0.407\n",
      "Longitude     -0.4345      0.008    -57.682      0.000      -0.449      -0.420\n",
      "==============================================================================\n",
      "Omnibus:                     4393.650   Durbin-Watson:                   0.885\n",
      "Prob(Omnibus):                  0.000   Jarque-Bera (JB):            14087.596\n",
      "Skew:                           1.082   Prob(JB):                         0.00\n",
      "Kurtosis:                       6.420   Cond. No.                     2.38e+05\n",
      "==============================================================================\n",
      "\n",
      "Notes:\n",
      "[1] Standard Errors assume that the covariance matrix of the errors is correctly specified.\n",
      "[2] The condition number is large, 2.38e+05. This might indicate that there are\n",
      "strong multicollinearity or other numerical problems.\n"
     ]
    }
   ],
   "source": [
    "# Display the summary\n",
    "print(model.summary())"
   ]
  },
  {
   "cell_type": "code",
   "execution_count": 6,
   "id": "d43a7e54-b9f4-4a88-9d0b-2249be3581b0",
   "metadata": {},
   "outputs": [
    {
     "name": "stdout",
     "output_type": "stream",
     "text": [
      "\n",
      "Significant Features (p-value < 0.05): ['const', 'MedInc', 'HouseAge', 'AveRooms', 'AveBedrms', 'AveOccup', 'Latitude', 'Longitude']\n"
     ]
    }
   ],
   "source": [
    "# Features with high p-values (> 0.05) are less significant\n",
    "significant_features = model.pvalues[model.pvalues < 0.05].index.tolist()\n",
    "print(\"\\nSignificant Features (p-value < 0.05):\", significant_features)"
   ]
  },
  {
   "cell_type": "code",
   "execution_count": 7,
   "id": "a8f7e19b-1ff7-4fed-94a7-ce49554dd86a",
   "metadata": {},
   "outputs": [],
   "source": [
    "# Create a reduced dataset with only significant features\n",
    "X_reduced = X[significant_features]"
   ]
  },
  {
   "cell_type": "code",
   "execution_count": 8,
   "id": "05dd3cef-ae81-4cd0-94fc-46515ba979f1",
   "metadata": {},
   "outputs": [],
   "source": [
    "# Fit the Model Again with Reduced Features\n",
    "model_reduced = sm.OLS(y, X_reduced).fit()"
   ]
  },
  {
   "cell_type": "code",
   "execution_count": 9,
   "id": "aac36fb9-c32a-4f98-8a35-2e5ab1089960",
   "metadata": {},
   "outputs": [
    {
     "name": "stdout",
     "output_type": "stream",
     "text": [
      "\n",
      "Reduced Model Summary:\n",
      "                            OLS Regression Results                            \n",
      "==============================================================================\n",
      "Dep. Variable:            MedHouseVal   R-squared:                       0.606\n",
      "Model:                            OLS   Adj. R-squared:                  0.606\n",
      "Method:                 Least Squares   F-statistic:                     4538.\n",
      "Date:                Wed, 20 Nov 2024   Prob (F-statistic):               0.00\n",
      "Time:                        00:39:19   Log-Likelihood:                -22624.\n",
      "No. Observations:               20640   AIC:                         4.526e+04\n",
      "Df Residuals:                   20632   BIC:                         4.533e+04\n",
      "Df Model:                           7                                         \n",
      "Covariance Type:            nonrobust                                         \n",
      "==============================================================================\n",
      "                 coef    std err          t      P>|t|      [0.025      0.975]\n",
      "------------------------------------------------------------------------------\n",
      "const        -36.9175      0.658    -56.085      0.000     -38.208     -35.627\n",
      "MedInc         0.4368      0.004    104.089      0.000       0.429       0.445\n",
      "HouseAge       0.0096      0.000     22.602      0.000       0.009       0.010\n",
      "AveRooms      -0.1071      0.006    -18.217      0.000      -0.119      -0.096\n",
      "AveBedrms      0.6449      0.028     22.922      0.000       0.590       0.700\n",
      "AveOccup      -0.0038      0.000     -7.861      0.000      -0.005      -0.003\n",
      "Latitude      -0.4207      0.007    -58.763      0.000      -0.435      -0.407\n",
      "Longitude     -0.4340      0.008    -57.782      0.000      -0.449      -0.419\n",
      "==============================================================================\n",
      "Omnibus:                     4406.193   Durbin-Watson:                   0.885\n",
      "Prob(Omnibus):                  0.000   Jarque-Bera (JB):            14155.786\n",
      "Skew:                           1.084   Prob(JB):                         0.00\n",
      "Kurtosis:                       6.429   Cond. No.                     1.68e+04\n",
      "==============================================================================\n",
      "\n",
      "Notes:\n",
      "[1] Standard Errors assume that the covariance matrix of the errors is correctly specified.\n",
      "[2] The condition number is large, 1.68e+04. This might indicate that there are\n",
      "strong multicollinearity or other numerical problems.\n"
     ]
    }
   ],
   "source": [
    "# Display the summary of the reduced model\n",
    "print(\"\\nReduced Model Summary:\")\n",
    "print(model_reduced.summary())"
   ]
  },
  {
   "cell_type": "code",
   "execution_count": 10,
   "id": "73015206-b8e9-44a9-8d13-9a321767371b",
   "metadata": {},
   "outputs": [],
   "source": [
    "# Train-test split\n",
    "X_train, X_test, y_train, y_test = train_test_split(X.drop(columns=\"const\"), y, test_size=0.2, random_state=42)\n",
    "X_train_reduced = X_train[significant_features[1:]]  # Exclude 'const'\n",
    "X_test_reduced = X_test[significant_features[1:]]"
   ]
  },
  {
   "cell_type": "code",
   "execution_count": 11,
   "id": "96eef4a5-bcd5-42ce-9276-3893b63c1bd2",
   "metadata": {},
   "outputs": [],
   "source": [
    "# Fit models\n",
    "from sklearn.linear_model import LinearRegression\n",
    "\n",
    "full_model = LinearRegression().fit(X_train, y_train)\n",
    "reduced_model = LinearRegression().fit(X_train_reduced, y_train)"
   ]
  },
  {
   "cell_type": "code",
   "execution_count": 12,
   "id": "eb0227ab-e91e-4cf3-ad01-4f7a3ef42a43",
   "metadata": {},
   "outputs": [],
   "source": [
    "# Predictions\n",
    "y_pred_full = full_model.predict(X_test)\n",
    "y_pred_reduced = reduced_model.predict(X_test_reduced)"
   ]
  },
  {
   "cell_type": "code",
   "execution_count": 13,
   "id": "7e76dcc1-9506-446d-9ffe-b46cdfa95440",
   "metadata": {},
   "outputs": [
    {
     "name": "stdout",
     "output_type": "stream",
     "text": [
      "\n",
      "Full Model Evaluation:\n",
      "RMSE: 0.7456\n",
      "R2 Score: 0.5758\n",
      "\n",
      "Reduced Model Evaluation:\n",
      "RMSE: 0.7456\n",
      "R2 Score: 0.5757\n"
     ]
    }
   ],
   "source": [
    "# Metrics\n",
    "print(\"\\nFull Model Evaluation:\")\n",
    "print(f\"RMSE: {np.sqrt(mean_squared_error(y_test, y_pred_full)):.4f}\")\n",
    "print(f\"R2 Score: {r2_score(y_test, y_pred_full):.4f}\")\n",
    "\n",
    "print(\"\\nReduced Model Evaluation:\")\n",
    "print(f\"RMSE: {np.sqrt(mean_squared_error(y_test, y_pred_reduced)):.4f}\")\n",
    "print(f\"R2 Score: {r2_score(y_test, y_pred_reduced):.4f}\")"
   ]
  },
  {
   "cell_type": "code",
   "execution_count": null,
   "id": "80e1194a-12c7-417b-9fb8-d9abf3eac05e",
   "metadata": {},
   "outputs": [],
   "source": []
  }
 ],
 "metadata": {
  "kernelspec": {
   "display_name": "Python 3 (ipykernel)",
   "language": "python",
   "name": "python3"
  },
  "language_info": {
   "codemirror_mode": {
    "name": "ipython",
    "version": 3
   },
   "file_extension": ".py",
   "mimetype": "text/x-python",
   "name": "python",
   "nbconvert_exporter": "python",
   "pygments_lexer": "ipython3",
   "version": "3.12.4"
  }
 },
 "nbformat": 4,
 "nbformat_minor": 5
}
