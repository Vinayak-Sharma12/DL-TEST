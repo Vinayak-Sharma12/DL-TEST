{
  "nbformat": 4,
  "nbformat_minor": 0,
  "metadata": {
    "colab": {
      "provenance": []
    },
    "kernelspec": {
      "name": "python3",
      "display_name": "Python 3"
    },
    "language_info": {
      "name": "python"
    }
  },
  "cells": [
    {
      "cell_type": "markdown",
      "source": [
        "# Assignment 3"
      ],
      "metadata": {
        "id": "yMb3pyonD0Uj"
      }
    },
    {
      "cell_type": "markdown",
      "source": [
        "> Submitted By: Bhavya\n",
        "\n",
        "> Roll No.: 102115003\n",
        "\n",
        "> Section: 4O1A"
      ],
      "metadata": {
        "id": "3DvTPFnMD4qn"
      }
    },
    {
      "cell_type": "markdown",
      "source": [
        "#### Create a single layer neural network to classify the self generated random data."
      ],
      "metadata": {
        "id": "TxguTyFJDdJj"
      }
    },
    {
      "cell_type": "code",
      "source": [
        "# importing libraries\n",
        "import numpy as np"
      ],
      "metadata": {
        "id": "ZO4-mpYmEZdC"
      },
      "execution_count": 1,
      "outputs": []
    },
    {
      "cell_type": "code",
      "execution_count": 2,
      "metadata": {
        "id": "a9u4J9bQDVNY"
      },
      "outputs": [],
      "source": [
        "np.random.seed(0)\n",
        "X = np.random.randn(100, 2)  # Features\n",
        "y = (X[:, 0] + X[:, 1] > 0).astype(int)  # Labels: 1 if the sum of features > 0, else 0"
      ]
    },
    {
      "cell_type": "code",
      "source": [
        "class SingleLayerNN:\n",
        "    def __init__(self, input_size):\n",
        "        # Initialize weights and bias\n",
        "        self.weights = np.random.randn(input_size)\n",
        "        self.bias = 0.0\n",
        "\n",
        "    def sigmoid(self, z):\n",
        "        return 1 / (1 + np.exp(-z))     # Sigmoid activation function\n",
        "\n",
        "    def predict(self, X):\n",
        "        linear_output = np.dot(X, self.weights) + self.bias\n",
        "        return self.sigmoid(linear_output)\n",
        "\n",
        "    def compute_loss(self, y_true, y_pred):\n",
        "        m = len(y_true)\n",
        "        return -1/m * np.sum(y_true * np.log(y_pred) + (1 - y_true) * np.log(1 - y_pred))  # Binary cross-entropy loss\n",
        "\n",
        "    def train(self, X, y, epochs=1000, learning_rate=0.01):\n",
        "        m = X.shape[0]\n",
        "        for epoch in range(epochs):\n",
        "            y_pred = self.predict(X)  # Forward pass\n",
        "            loss = self.compute_loss(y, y_pred)  # Compute loss\n",
        "\n",
        "            # Backward pass (gradient computation)\n",
        "            dW = (1/m) * np.dot(X.T, (y_pred - y))\n",
        "            dB = (1/m) * np.sum(y_pred - y)\n",
        "\n",
        "            # Update weights and bias\n",
        "            self.weights -= learning_rate * dW\n",
        "            self.bias -= learning_rate * dB\n",
        "\n",
        "            # Print loss every 100 epochs\n",
        "            if epoch % 100 == 0:\n",
        "                print(f\"Epoch {epoch}, Loss: {loss:.4f}\")\n",
        "\n",
        "\n",
        "model = SingleLayerNN(input_size=2)\n",
        "model.train(X, y, epochs=1000, learning_rate=0.1)"
      ],
      "metadata": {
        "colab": {
          "base_uri": "https://localhost:8080/"
        },
        "id": "V-oR1j16kuF5",
        "outputId": "2ee17c45-1750-4820-8206-e6c6cabb4d57"
      },
      "execution_count": 3,
      "outputs": [
        {
          "output_type": "stream",
          "name": "stdout",
          "text": [
            "Epoch 0, Loss: 0.8936\n",
            "Epoch 100, Loss: 0.2851\n",
            "Epoch 200, Loss: 0.2091\n",
            "Epoch 300, Loss: 0.1749\n",
            "Epoch 400, Loss: 0.1543\n",
            "Epoch 500, Loss: 0.1402\n",
            "Epoch 600, Loss: 0.1298\n",
            "Epoch 700, Loss: 0.1216\n",
            "Epoch 800, Loss: 0.1151\n",
            "Epoch 900, Loss: 0.1096\n"
          ]
        }
      ]
    },
    {
      "cell_type": "code",
      "source": [
        "predictions = model.predict(X)\n",
        "predictions = (predictions > 0.5).astype(int)  # Convert probabilities to binary outputs\n",
        "\n",
        "accuracy = np.mean(predictions == y)\n",
        "print(f\"Training Accuracy: {accuracy * 100:.2f}%\")"
      ],
      "metadata": {
        "colab": {
          "base_uri": "https://localhost:8080/"
        },
        "id": "7tViuIuWklA4",
        "outputId": "23e3eef1-e85b-4ad6-8d39-8875eb30cd28"
      },
      "execution_count": 4,
      "outputs": [
        {
          "output_type": "stream",
          "name": "stdout",
          "text": [
            "Training Accuracy: 99.00%\n"
          ]
        }
      ]
    }
  ]
}