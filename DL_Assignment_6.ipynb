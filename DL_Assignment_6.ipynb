{
 "cells": [
  {
   "cell_type": "markdown",
   "id": "fda42e86-71dc-473d-b874-fb4efe1fceac",
   "metadata": {},
   "source": [
    "# DL Assignment 6\n",
    "## Sargun Singh (102115078) 4O1D"
   ]
  },
  {
   "cell_type": "markdown",
   "id": "68f059dc-2ddc-42b4-9a50-15c4a3e49687",
   "metadata": {},
   "source": [
    "**Q1** *Use the Iris Dataset to classify the different types of irises. Iris s = dataset is inbuilt in seaborn package.*"
   ]
  },
  {
   "cell_type": "code",
   "execution_count": 1,
   "id": "447458f8-a6d7-487a-9741-f2bf7d7828c0",
   "metadata": {},
   "outputs": [],
   "source": [
    "import seaborn as sns\n",
    "import torch\n",
    "import torch.nn as nn\n",
    "import torch.optim as optim\n",
    "from sklearn.model_selection import train_test_split\n",
    "from sklearn.preprocessing import StandardScaler\n",
    "from sklearn.metrics import accuracy_score"
   ]
  },
  {
   "cell_type": "code",
   "execution_count": 2,
   "id": "249365ea-2fd4-40c0-9471-1a04313238e4",
   "metadata": {},
   "outputs": [],
   "source": [
    "# Load the Iris dataset\n",
    "iris = sns.load_dataset(\"iris\")"
   ]
  },
  {
   "cell_type": "code",
   "execution_count": 3,
   "id": "04a0ea67-b28d-461d-a464-71b5aa3e25e9",
   "metadata": {},
   "outputs": [],
   "source": [
    "# Map species names to numerical labels\n",
    "species_to_label = {species: idx for idx, species in enumerate(iris['species'].unique())}\n",
    "iris['species'] = iris['species'].map(species_to_label)"
   ]
  },
  {
   "cell_type": "code",
   "execution_count": 4,
   "id": "cf175756-25ad-4cef-8d3c-18ae48a890bc",
   "metadata": {},
   "outputs": [],
   "source": [
    "# Split features and labels\n",
    "X = iris.iloc[:, :-1].values  # All columns except the last one\n",
    "y = iris['species'].values    # Last column"
   ]
  },
  {
   "cell_type": "code",
   "execution_count": 5,
   "id": "faaaac69-1f8d-4341-ae0d-3461d80856f5",
   "metadata": {},
   "outputs": [
    {
     "data": {
      "text/html": [
       "<div>\n",
       "<style scoped>\n",
       "    .dataframe tbody tr th:only-of-type {\n",
       "        vertical-align: middle;\n",
       "    }\n",
       "\n",
       "    .dataframe tbody tr th {\n",
       "        vertical-align: top;\n",
       "    }\n",
       "\n",
       "    .dataframe thead th {\n",
       "        text-align: right;\n",
       "    }\n",
       "</style>\n",
       "<table border=\"1\" class=\"dataframe\">\n",
       "  <thead>\n",
       "    <tr style=\"text-align: right;\">\n",
       "      <th></th>\n",
       "      <th>sepal_length</th>\n",
       "      <th>sepal_width</th>\n",
       "      <th>petal_length</th>\n",
       "      <th>petal_width</th>\n",
       "      <th>species</th>\n",
       "    </tr>\n",
       "  </thead>\n",
       "  <tbody>\n",
       "    <tr>\n",
       "      <th>0</th>\n",
       "      <td>5.1</td>\n",
       "      <td>3.5</td>\n",
       "      <td>1.4</td>\n",
       "      <td>0.2</td>\n",
       "      <td>0</td>\n",
       "    </tr>\n",
       "    <tr>\n",
       "      <th>1</th>\n",
       "      <td>4.9</td>\n",
       "      <td>3.0</td>\n",
       "      <td>1.4</td>\n",
       "      <td>0.2</td>\n",
       "      <td>0</td>\n",
       "    </tr>\n",
       "    <tr>\n",
       "      <th>2</th>\n",
       "      <td>4.7</td>\n",
       "      <td>3.2</td>\n",
       "      <td>1.3</td>\n",
       "      <td>0.2</td>\n",
       "      <td>0</td>\n",
       "    </tr>\n",
       "    <tr>\n",
       "      <th>3</th>\n",
       "      <td>4.6</td>\n",
       "      <td>3.1</td>\n",
       "      <td>1.5</td>\n",
       "      <td>0.2</td>\n",
       "      <td>0</td>\n",
       "    </tr>\n",
       "    <tr>\n",
       "      <th>4</th>\n",
       "      <td>5.0</td>\n",
       "      <td>3.6</td>\n",
       "      <td>1.4</td>\n",
       "      <td>0.2</td>\n",
       "      <td>0</td>\n",
       "    </tr>\n",
       "  </tbody>\n",
       "</table>\n",
       "</div>"
      ],
      "text/plain": [
       "   sepal_length  sepal_width  petal_length  petal_width  species\n",
       "0           5.1          3.5           1.4          0.2        0\n",
       "1           4.9          3.0           1.4          0.2        0\n",
       "2           4.7          3.2           1.3          0.2        0\n",
       "3           4.6          3.1           1.5          0.2        0\n",
       "4           5.0          3.6           1.4          0.2        0"
      ]
     },
     "execution_count": 5,
     "metadata": {},
     "output_type": "execute_result"
    }
   ],
   "source": [
    "iris.head()"
   ]
  },
  {
   "cell_type": "code",
   "execution_count": 6,
   "id": "a623e6ae-07c0-46ea-b3b4-ae666f7b5f87",
   "metadata": {},
   "outputs": [],
   "source": [
    "# Split into training and testing sets\n",
    "X_train, X_test, y_train, y_test = train_test_split(X, y, test_size=0.2, random_state=42)"
   ]
  },
  {
   "cell_type": "code",
   "execution_count": 7,
   "id": "afca4d8c-8247-4842-a42d-4ecd0731de3d",
   "metadata": {},
   "outputs": [],
   "source": [
    "# Standardize the features\n",
    "scaler = StandardScaler()\n",
    "X_train = scaler.fit_transform(X_train)\n",
    "X_test = scaler.transform(X_test)"
   ]
  },
  {
   "cell_type": "code",
   "execution_count": 8,
   "id": "e3b7a7ed-7ccb-45ae-b708-4ce1dee11732",
   "metadata": {},
   "outputs": [],
   "source": [
    "# Convert data to PyTorch tensors\n",
    "X_train_tensor = torch.tensor(X_train, dtype=torch.float32)\n",
    "X_test_tensor = torch.tensor(X_test, dtype=torch.float32)\n",
    "y_train_tensor = torch.tensor(y_train, dtype=torch.long)\n",
    "y_test_tensor = torch.tensor(y_test, dtype=torch.long)"
   ]
  },
  {
   "cell_type": "code",
   "execution_count": 9,
   "id": "bf3c2bb9-cdbb-4b79-b1f1-4f590b26411d",
   "metadata": {},
   "outputs": [],
   "source": [
    "# Define the Deep Neural Network\n",
    "class DeepNN(nn.Module):\n",
    "    def __init__(self, input_size, hidden_sizes, output_size):\n",
    "        super(DeepNN, self).__init__()\n",
    "        self.hidden_layers = nn.ModuleList()\n",
    "        in_features = input_size\n",
    "        \n",
    "        # Add hidden layers\n",
    "        for hidden_size in hidden_sizes:\n",
    "            self.hidden_layers.append(nn.Linear(in_features, hidden_size))\n",
    "            in_features = hidden_size\n",
    "        \n",
    "        # Output layer\n",
    "        self.output_layer = nn.Linear(in_features, output_size)\n",
    "    \n",
    "    def forward(self, x):\n",
    "        for layer in self.hidden_layers:\n",
    "            x = torch.relu(layer(x))\n",
    "        x = self.output_layer(x)  # No activation for the output layer (handled by loss function)\n",
    "        return x"
   ]
  },
  {
   "cell_type": "code",
   "execution_count": 10,
   "id": "573811f2-c617-41ca-b82a-cba59b5a863f",
   "metadata": {},
   "outputs": [],
   "source": [
    "# Model parameters\n",
    "input_size = X_train.shape[1]  # Number of features\n",
    "hidden_sizes = [16, 8]         # Sizes of hidden layers\n",
    "output_size = 3                # Number of iris species\n",
    "\n",
    "# Instantiate the model\n",
    "model = DeepNN(input_size, hidden_sizes, output_size)"
   ]
  },
  {
   "cell_type": "code",
   "execution_count": 11,
   "id": "39806571-228f-4c92-9ebe-23c41b5150b3",
   "metadata": {},
   "outputs": [],
   "source": [
    "# Define Loss Function and Optimizer\n",
    "criterion = nn.CrossEntropyLoss()  # Suitable for multi-class classification\n",
    "optimizer = optim.Adam(model.parameters(), lr=0.01)  # Adam optimizer"
   ]
  },
  {
   "cell_type": "code",
   "execution_count": 12,
   "id": "5235b715-1058-4b30-8483-bcc52e63206c",
   "metadata": {},
   "outputs": [
    {
     "name": "stdout",
     "output_type": "stream",
     "text": [
      "Epoch [10/100], Loss: 1.0003\n",
      "Epoch [20/100], Loss: 0.7500\n",
      "Epoch [30/100], Loss: 0.4281\n",
      "Epoch [40/100], Loss: 0.2769\n",
      "Epoch [50/100], Loss: 0.1981\n",
      "Epoch [60/100], Loss: 0.1281\n",
      "Epoch [70/100], Loss: 0.0815\n",
      "Epoch [80/100], Loss: 0.0622\n",
      "Epoch [90/100], Loss: 0.0522\n",
      "Epoch [100/100], Loss: 0.0477\n"
     ]
    }
   ],
   "source": [
    "# Train the Model\n",
    "num_epochs = 100\n",
    "for epoch in range(num_epochs):\n",
    "    # Forward pass\n",
    "    outputs = model(X_train_tensor)\n",
    "    loss = criterion(outputs, y_train_tensor)\n",
    "    \n",
    "    # Backward pass and optimization\n",
    "    optimizer.zero_grad()\n",
    "    loss.backward()\n",
    "    optimizer.step()\n",
    "    \n",
    "    # Print loss for every 10 epochs\n",
    "    if (epoch + 1) % 10 == 0:\n",
    "        print(f'Epoch [{epoch + 1}/{num_epochs}], Loss: {loss.item():.4f}')"
   ]
  },
  {
   "cell_type": "code",
   "execution_count": 13,
   "id": "e9b761ec-38c5-49b1-a123-b7ac02b128d7",
   "metadata": {},
   "outputs": [
    {
     "name": "stdout",
     "output_type": "stream",
     "text": [
      "Training Accuracy: 0.9833\n",
      "Testing Accuracy: 1.0000\n"
     ]
    }
   ],
   "source": [
    "# Evaluate the Model\n",
    "with torch.no_grad():\n",
    "    # Make predictions\n",
    "    train_predictions = torch.argmax(model(X_train_tensor), dim=1)\n",
    "    test_predictions = torch.argmax(model(X_test_tensor), dim=1)\n",
    "    \n",
    "    # Calculate accuracy\n",
    "    train_accuracy = accuracy_score(y_train, train_predictions.numpy())\n",
    "    test_accuracy = accuracy_score(y_test, test_predictions.numpy())\n",
    "\n",
    "    print(f'Training Accuracy: {train_accuracy:.4f}')\n",
    "    print(f'Testing Accuracy: {test_accuracy:.4f}')"
   ]
  },
  {
   "cell_type": "code",
   "execution_count": null,
   "id": "0a852ee7-459f-4e49-87c7-7bdef03f560b",
   "metadata": {},
   "outputs": [],
   "source": []
  }
 ],
 "metadata": {
  "kernelspec": {
   "display_name": "Python 3 (ipykernel)",
   "language": "python",
   "name": "python3"
  },
  "language_info": {
   "codemirror_mode": {
    "name": "ipython",
    "version": 3
   },
   "file_extension": ".py",
   "mimetype": "text/x-python",
   "name": "python",
   "nbconvert_exporter": "python",
   "pygments_lexer": "ipython3",
   "version": "3.12.4"
  }
 },
 "nbformat": 4,
 "nbformat_minor": 5
}
